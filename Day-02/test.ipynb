{
 "cells": [
  {
   "cell_type": "code",
   "execution_count": 1,
   "id": "2116727f",
   "metadata": {},
   "outputs": [
    {
     "name": "stdout",
     "output_type": "stream",
     "text": [
      "   X   y\n",
      "0  1   2\n",
      "1  2   4\n",
      "2  3   6\n",
      "3  4   7\n",
      "4  5  10\n",
      "Model Intercept: 0.09999999999999876\n",
      "Model Slope: 1.9000000000000004\n",
      "Prediction Model Value for X = 7: 13.400000000000002\n"
     ]
    },
    {
     "name": "stderr",
     "output_type": "stream",
     "text": [
      "C:\\Users\\Yapa\\AppData\\Roaming\\Python\\Python313\\site-packages\\sklearn\\utils\\validation.py:2749: UserWarning: X does not have valid feature names, but LinearRegression was fitted with feature names\n",
      "  warnings.warn(\n"
     ]
    }
   ],
   "source": [
    "# Import necessary libraries\n",
    "from sklearn.linear_model import LinearRegression  # For creating and training the linear regression model\n",
    "import pandas as pd  # For working with tabular data\n",
    "\n",
    "# Step 1: Create sample data using a dictionary\n",
    "data = {\n",
    "    'X': [1, 2, 3, 4, 5],   # Independent variable (feature)\n",
    "    'y': [2, 4, 6, 7, 10]   # Dependent variable (target/output)\n",
    "}\n",
    "\n",
    "# Step 2: Convert the dictionary into a pandas DataFrame\n",
    "df = pd.DataFrame(data)\n",
    "\n",
    "# Step 3: Print the DataFrame to visually confirm the data\n",
    "print(df)\n",
    "\n",
    "# Step 4: Define the feature (X) and target (y)\n",
    "X = df[['X']]  # Double brackets to keep X as a 2D array (required for scikit-learn)\n",
    "y = df['y']    # Target variable\n",
    "\n",
    "# Step 5: Create an instance of the LinearRegression model\n",
    "model = LinearRegression()\n",
    "\n",
    "# Step 6: Train (fit) the model on the data\n",
    "model.fit(X, y)\n",
    "\n",
    "# Step 7: Print the model's intercept (where the line crosses the y-axis)\n",
    "print(\"Model Intercept:\", model.intercept_)\n",
    "\n",
    "# Step 8: Print the model's slope (coefficient for X)\n",
    "print(\"Model Slope:\", model.coef_[0])\n",
    "\n",
    "# Step 9: Use the trained model to predict the output for a new input value (e.g., X = 7)\n",
    "print(\"Prediction Model Value for X = 7:\", model.predict([[7]])[0])\n"
   ]
  }
 ],
 "metadata": {
  "kernelspec": {
   "display_name": "Python 3",
   "language": "python",
   "name": "python3"
  },
  "language_info": {
   "codemirror_mode": {
    "name": "ipython",
    "version": 3
   },
   "file_extension": ".py",
   "mimetype": "text/x-python",
   "name": "python",
   "nbconvert_exporter": "python",
   "pygments_lexer": "ipython3",
   "version": "3.13.3"
  }
 },
 "nbformat": 4,
 "nbformat_minor": 5
}
