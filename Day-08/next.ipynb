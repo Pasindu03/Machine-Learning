{
 "cells": [
  {
   "cell_type": "code",
   "execution_count": 2,
   "id": "70350bd8",
   "metadata": {},
   "outputs": [],
   "source": [
    "from google.cloud import aiplatform"
   ]
  },
  {
   "cell_type": "code",
   "execution_count": 3,
   "id": "6c0c9a9c",
   "metadata": {},
   "outputs": [],
   "source": [
    "Project_ID = \"tidy-visitor-470603-g4\"\n",
    "LOCATION = \"us-central1\"\n",
    "ENDPOINT_ID = \"995879358323228672\"\n",
    "\n",
    "aiplatform.init(project=Project_ID, location=LOCATION)\n",
    "\n",
    "endpoint = aiplatform.Endpoint(endpoint_name=ENDPOINT_ID)"
   ]
  },
  {
   "cell_type": "code",
   "execution_count": 15,
   "id": "dd0f5f9e",
   "metadata": {},
   "outputs": [
    {
     "name": "stdout",
     "output_type": "stream",
     "text": [
      "Statement : This product is amazing, the quality is way better than I expected! \n",
      "Result is Positive\n",
      "\n",
      "Statement : I was very disappointed, it broke after just two days of use. \n",
      "Result is Negative\n",
      "\n",
      "Statement : The item is okay, nothing special but not terrible either. \n",
      "Result is Negative\n",
      "\n",
      "Statement : Absolutely love it! Fits perfectly and looks beautiful. \n",
      "Result is Positive\n",
      "\n",
      "Statement : Terrible experience, the material feels cheap and the color is off. \n",
      "Result is Negative\n",
      "\n"
     ]
    }
   ],
   "source": [
    "new_reviews = [\n",
    "    \"This product is amazing, the quality is way better than I expected!\",\n",
    "    \"I was very disappointed, it broke after just two days of use.\",\n",
    "    \"The item is okay, nothing special but not terrible either.\",\n",
    "    \"Absolutely love it! Fits perfectly and looks beautiful.\",\n",
    "    \"Terrible experience, the material feels cheap and the color is off.\"\n",
    "]\n",
    "\n",
    "response = endpoint.predict(instances=new_reviews)\n",
    "\n",
    "for i in range(len(new_reviews)):\n",
    "    sentiments = \"Result is Positive\" if response.predictions[i] == 1 else \"Result is Negative\"\n",
    "    print(f\"Statement : {new_reviews[i]} \\n{sentiments}\\n\")"
   ]
  }
 ],
 "metadata": {
  "kernelspec": {
   "display_name": "Python 3",
   "language": "python",
   "name": "python3"
  },
  "language_info": {
   "codemirror_mode": {
    "name": "ipython",
    "version": 3
   },
   "file_extension": ".py",
   "mimetype": "text/x-python",
   "name": "python",
   "nbconvert_exporter": "python",
   "pygments_lexer": "ipython3",
   "version": "3.11.9"
  }
 },
 "nbformat": 4,
 "nbformat_minor": 5
}
