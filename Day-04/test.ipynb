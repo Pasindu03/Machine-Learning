{
 "cells": [
  {
   "cell_type": "code",
   "execution_count": null,
   "metadata": {},
   "outputs": [],
   "source": [
    "import pandas as pd\n",
    "from sklearn.model_selection import train_test_split\n",
    "from sklearn.feature_extraction.text import CountVectorizer\n",
    "from sklearn.linear_model import LogisticRegression\n",
    "from sklearn.metrics import accuracy_score\n"
   ]
  },
  {
   "cell_type": "code",
   "execution_count": null,
   "metadata": {},
   "outputs": [
    {
     "name": "stdout",
     "output_type": "stream",
     "text": [
      "                                         Review Text  sentiment\n",
      "0  Absolutely wonderful - silky and sexy and comf...          1\n",
      "1  Love this dress!  it's sooo pretty.  i happene...          1\n",
      "2  I love, love, love this jumpsuit. it's fun, fl...          1\n",
      "3  This shirt is very flattering to all due to th...          1\n",
      "4  I love tracy reese dresses, but this one is no...         -1\n"
     ]
    }
   ],
   "source": [
    "df = pd.read_csv(\"reviews.csv\")\n",
    "\n",
    "print(df.head())"
   ]
  },
  {
   "cell_type": "code",
   "execution_count": 3,
   "metadata": {},
   "outputs": [],
   "source": [
    "X = df['Review Text']\n",
    "y = df['sentiment']\n",
    "\n",
    "#stratify=y ensures that the proportion of positive and negative reviews remain the same.\n",
    "X_train,X_test,y_train,y_test = train_test_split(\n",
    "    X, y, test_size=0.2, random_state=42, stratify=y\n",
    ")"
   ]
  },
  {
   "cell_type": "code",
   "execution_count": 6,
   "metadata": {},
   "outputs": [
    {
     "name": "stdout",
     "output_type": "stream",
     "text": [
      "\n",
      "Converting text to numerical features using Bag-of-Words...\n",
      "Text successfully converted to feature vectors\n"
     ]
    }
   ],
   "source": [
    "#Here we convert the text reviews into numerical feature vectors.\n",
    "#Each feature is a count of how many times a word appears in a review.\n",
    "print(\"\\nConverting text to numerical features using Bag-of-Words...\")\n",
    "\n",
    "#Initiate the vectorizer, 'stop_words='english'' removes common English words like the, an, a is which \n",
    "#don't carry much sentiment.\n",
    "vectorzier = CountVectorizer(stop_words='english');\n",
    "\n",
    "#Fit the vectorizer on the Training data and transform it into a matrix.\n",
    "X_train_bow = vectorzier.fit_transform(X_train)\n",
    "\n",
    "#ONLY transform the testing data using the already fitted vectorizer\n",
    "X_test_bow = vectorzier.transform(X_test)\n",
    "\n",
    "print(\"Text successfully converted to feature vectors\")"
   ]
  },
  {
   "cell_type": "code",
   "execution_count": 7,
   "metadata": {},
   "outputs": [
    {
     "name": "stdout",
     "output_type": "stream",
     "text": [
      "Model training complete\n"
     ]
    }
   ],
   "source": [
    "#Initialize the model\n",
    "#Max iter is increased to ensure the model has enough time to find the best weights\n",
    "model = LogisticRegression(max_iter=2000)\n",
    "\n",
    "#Train the model on our bag of words training data\n",
    "model.fit(X_train_bow,y_train)\n",
    "\n",
    "print(\"Model training complete\")"
   ]
  },
  {
   "cell_type": "code",
   "execution_count": 8,
   "metadata": {},
   "outputs": [
    {
     "name": "stdout",
     "output_type": "stream",
     "text": [
      "\n",
      " Evaluating model performance on the test set\n",
      "Model accuracy : 0.9294 (92.94%)\n"
     ]
    }
   ],
   "source": [
    "print(\"\\n Evaluating model performance on the test set\")\n",
    "\n",
    "#Make predictions on the test data\n",
    "y_pred = model.predict(X_test_bow)\n",
    "\n",
    "#Test accuracy\n",
    "\n",
    "accuracy = accuracy_score(y_test, y_pred)\n",
    "\n",
    "print(f\"Model accuracy : {accuracy:.4f} ({accuracy:.2%})\")"
   ]
  },
  {
   "cell_type": "code",
   "execution_count": 19,
   "metadata": {},
   "outputs": [
    {
     "name": "stdout",
     "output_type": "stream",
     "text": [
      "{'Absolutely love this dress! The fit is perfect and the fabric feels luxurious. Got so many compliments!'} Sentiment : positive\n",
      "{\"The color was a bit different from the pictures, but it's still a beautiful dress. A little tight in the chest though.\"} Sentiment : positive\n",
      "{'Meh. The material feels cheap and it wrinkles easily. Not worth the price in my opinion.'} Sentiment : negative\n",
      "{'This dress is a showstopper! Perfect for formal events. Hugs all the right places and flows like a dream.'} Sentiment : positive\n"
     ]
    }
   ],
   "source": [
    "dress_reviews = [\n",
    "    \"Absolutely love this dress! The fit is perfect and the fabric feels luxurious. Got so many compliments!\",\n",
    "    \"The color was a bit different from the pictures, but it's still a beautiful dress. A little tight in the chest though.\",\n",
    "    \"Meh. The material feels cheap and it wrinkles easily. Not worth the price in my opinion.\",\n",
    "    \"This dress is a showstopper! Perfect for formal events. Hugs all the right places and flows like a dream.\"\n",
    "]\n",
    "X_review_bow = vectorzier.transform(dress_reviews)\n",
    "y_pred_2 = model.predict(X_review_bow)\n",
    "\n",
    "for i in range(len(y_pred_2)):\n",
    "    if y_pred_2[i] >= 1:\n",
    "        print({dress_reviews[i] } ,\"Sentiment : positive\")\n",
    "    elif y_pred_2[i] < 0:\n",
    "        print({dress_reviews[i] },\"Sentiment : negative\")\n"
   ]
  }
 ],
 "metadata": {
  "kernelspec": {
   "display_name": "Python 3",
   "language": "python",
   "name": "python3"
  },
  "language_info": {
   "codemirror_mode": {
    "name": "ipython",
    "version": 3
   },
   "file_extension": ".py",
   "mimetype": "text/x-python",
   "name": "python",
   "nbconvert_exporter": "python",
   "pygments_lexer": "ipython3",
   "version": "3.13.0"
  }
 },
 "nbformat": 4,
 "nbformat_minor": 2
}
