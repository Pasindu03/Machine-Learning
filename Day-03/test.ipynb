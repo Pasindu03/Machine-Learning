{
 "cells": [
  {
   "cell_type": "code",
   "execution_count": 3,
   "id": "60eaae23",
   "metadata": {},
   "outputs": [
    {
     "name": "stdout",
     "output_type": "stream",
     "text": [
      "      TV  Radio  Newspaper  Sales\n",
      "0  230.1   37.8       69.2   22.1\n",
      "1   44.5   39.3       45.1   10.4\n",
      "2   17.2   45.9       69.3   12.0\n",
      "3  151.5   41.3       58.5   16.5\n",
      "4  180.8   10.8       58.4   17.9\n",
      "Intercept : 15.3101\n",
      "Coefficient : 4.6634\n"
     ]
    }
   ],
   "source": [
    "import numpy as np\n",
    "import pandas as pd\n",
    "from sklearn.model_selection import train_test_split\n",
    "from sklearn.linear_model import SGDRegressor\n",
    "from sklearn.preprocessing import StandardScaler\n",
    "from sklearn import metrics\n",
    "\n",
    "df = pd.read_csv(\"advertising.csv\")\n",
    "print(df.head())\n",
    "\n",
    "X = df[['TV']]\n",
    "y = df['Sales']\n",
    "\n",
    "X_train, X_test, y_train, y_test = train_test_split(X, y, test_size=0.2, random_state=42)\n",
    "\n",
    "scaler = StandardScaler()\n",
    "\n",
    "X_train_scaled = scaler.fit_transform(X_train)\n",
    "\n",
    "X_test_scaled = scaler.transform(X_test)\n",
    "\n",
    "sgd_model = SGDRegressor(max_iter=10000, random_state=42)\n",
    "sgd_model.fit(X_train_scaled, y_train)\n",
    "\n",
    "intercept_value = sgd_model.intercept_\n",
    "\n",
    "print(f\"Intercept : {intercept_value[0]:.4f}\")\n",
    "\n",
    "coefficients = sgd_model.coef_\n",
    "\n",
    "print(f\"Coefficient : {coefficients[0]:.4f}\")"
   ]
  },
  {
   "cell_type": "code",
   "execution_count": 4,
   "id": "e2615aba",
   "metadata": {},
   "outputs": [
    {
     "name": "stdout",
     "output_type": "stream",
     "text": [
      "Mean Squared Error (MSE) : 6.0943\n",
      "<class 'float'>\n",
      "Root mean Square Error (RMSE) : 2.4687\n"
     ]
    }
   ],
   "source": [
    "y_pred = sgd_model.predict(X_test_scaled)\n",
    "mse_value = metrics.mean_squared_error(y_test, y_pred)\n",
    "print(f\"Mean Squared Error (MSE) : {mse_value:.4f}\")\n",
    "print(type(mse_value))\n",
    "rmse_value = np.sqrt(mse_value)\n",
    "print(f\"Root mean Square Error (RMSE) : {rmse_value:.4f}\")"
   ]
  }
 ],
 "metadata": {
  "kernelspec": {
   "display_name": "Python 3",
   "language": "python",
   "name": "python3"
  },
  "language_info": {
   "codemirror_mode": {
    "name": "ipython",
    "version": 3
   },
   "file_extension": ".py",
   "mimetype": "text/x-python",
   "name": "python",
   "nbconvert_exporter": "python",
   "pygments_lexer": "ipython3",
   "version": "3.11.9"
  }
 },
 "nbformat": 4,
 "nbformat_minor": 5
}
